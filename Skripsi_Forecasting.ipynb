{
  "nbformat": 4,
  "nbformat_minor": 0,
  "metadata": {
    "colab": {
      "name": "Skripsi Forecasting.ipynb",
      "provenance": [],
      "private_outputs": true,
      "collapsed_sections": []
    },
    "kernelspec": {
      "name": "python3",
      "display_name": "Python 3"
    },
    "accelerator": "GPU"
  },
  "cells": [
    {
      "cell_type": "code",
      "metadata": {
        "id": "0_-zLXVbK58j",
        "colab_type": "code",
        "colab": {}
      },
      "source": [
        "!pip install -q git+https://github.com/tensorflow/docs\n",
        "!pip install -q scikit-learn"
      ],
      "execution_count": null,
      "outputs": []
    },
    {
      "cell_type": "code",
      "metadata": {
        "colab_type": "code",
        "id": "1rRo8oNqZ-Rj",
        "colab": {}
      },
      "source": [
        "import io\n",
        "import sklearn\n",
        "import warnings\n",
        "import numpy as np\n",
        "import pandas as pd\n",
        "import seaborn as sns\n",
        "import tensorflow as tf\n",
        "import tensorflow_docs.plots\n",
        "import tensorflow_docs.modeling\n",
        "import tensorflow_docs as tfdocs\n",
        "import matplotlib.pyplot as plt\n",
        "\n",
        "from tensorflow.keras.models import Sequential\n",
        "from tensorflow import keras\n",
        "from tensorflow.keras import layers\n",
        "\n",
        "warnings.filterwarnings('ignore')\n",
        "\n",
        "print('Tensorflow version: ', tf.__version__)"
      ],
      "execution_count": null,
      "outputs": []
    },
    {
      "cell_type": "code",
      "metadata": {
        "id": "eAtocnNmK42H",
        "colab_type": "code",
        "colab": {}
      },
      "source": [
        "from google.colab import files\n",
        "uploaded = files.upload()"
      ],
      "execution_count": null,
      "outputs": []
    },
    {
      "cell_type": "code",
      "metadata": {
        "id": "FBPmkX7dOogJ",
        "colab_type": "code",
        "colab": {}
      },
      "source": [
        "column_names = ['yield', 'yield-1', 'prcp10', 'prcp11', 'prcp12', 'prcp01', 'prcp02', 'avgtemp', 'maxtemp', 'mintemp']\n",
        "\n",
        "data = pd.read_csv(io.BytesIO(uploaded['Dataset thesis.csv']), sep=';')\n",
        "\n",
        "dataset = data.copy()\n",
        "data.tail()"
      ],
      "execution_count": null,
      "outputs": []
    },
    {
      "cell_type": "markdown",
      "metadata": {
        "id": "Un0XS-6Wqo47",
        "colab_type": "text"
      },
      "source": [
        "Splitting the data into train and test"
      ]
    },
    {
      "cell_type": "code",
      "metadata": {
        "id": "5r10ExXqYUQm",
        "colab_type": "code",
        "colab": {}
      },
      "source": [
        "train_dataset = dataset.sample(frac=0.8, random_state=0)\n",
        "test_dataset = dataset.drop(train_dataset.index)\n",
        "\n",
        "print (train_dataset.shape)\n",
        "print (test_dataset.shape)"
      ],
      "execution_count": null,
      "outputs": []
    },
    {
      "cell_type": "markdown",
      "metadata": {
        "id": "SftcNmVQqiiX",
        "colab_type": "text"
      },
      "source": [
        "Inspecting the data"
      ]
    },
    {
      "cell_type": "code",
      "metadata": {
        "id": "EP-qqeANTLX7",
        "colab_type": "code",
        "colab": {}
      },
      "source": [
        "##%matplotlib inline"
      ],
      "execution_count": null,
      "outputs": []
    },
    {
      "cell_type": "code",
      "metadata": {
        "id": "rb0NMZayABjC",
        "colab_type": "code",
        "colab": {}
      },
      "source": [
        "##sns.pairplot(train_dataset[['yield', 'yield-1', 'prcp10', 'avgtemp']], diag_kind='kde')"
      ],
      "execution_count": null,
      "outputs": []
    },
    {
      "cell_type": "code",
      "metadata": {
        "id": "WtmHeDyITgMx",
        "colab_type": "code",
        "colab": {}
      },
      "source": [
        "##sns.pairplot(data, x_vars=['yield-1', 'prcp10', 'prcp11', 'prcp12', 'prcp01', 'prcp02', 'avgtemp', 'maxtemp', 'mintemp'], y_vars=['yield'], size=7, aspect=0.7, kind='reg') "
      ],
      "execution_count": null,
      "outputs": []
    },
    {
      "cell_type": "markdown",
      "metadata": {
        "id": "S1O9xYQFHf6E",
        "colab_type": "text"
      },
      "source": [
        "Splitting features from labels"
      ]
    },
    {
      "cell_type": "code",
      "metadata": {
        "id": "8t_PZ_FakSXq",
        "colab_type": "code",
        "colab": {}
      },
      "source": [
        "train_features = train_dataset.copy()\n",
        "test_features = test_dataset.copy()\n",
        "\n",
        "train_labels = train_features.pop('yield')\n",
        "test_labels = test_features.pop('yield')"
      ],
      "execution_count": null,
      "outputs": []
    },
    {
      "cell_type": "markdown",
      "metadata": {
        "id": "aR95njhBHtd0",
        "colab_type": "text"
      },
      "source": [
        "Normalization using Min-Max Scaling"
      ]
    },
    {
      "cell_type": "code",
      "metadata": {
        "id": "UasUhxgceLBt",
        "colab_type": "code",
        "colab": {}
      },
      "source": [
        "normalized_train = (train_dataset - train_dataset.min(axis=0)) / (train_dataset.max(axis=0) - train_dataset.min(axis=0))\n",
        "normalized_test = (test_dataset - test_dataset.min(axis=0)) / (test_dataset.max(axis=0) - test_dataset.min(axis=0))\n",
        "normalized_train_labels = (train_labels - train_labels.min(axis=0)) / (train_labels.max(axis=0) - train_labels.min(axis=0))\n",
        "normalized_test_labels = (test_labels - test_labels.min(axis=0)) / (test_labels.max(axis=0) - test_labels.min(axis=0))"
      ],
      "execution_count": null,
      "outputs": []
    },
    {
      "cell_type": "code",
      "metadata": {
        "id": "hJh4PvMfQXD6",
        "colab_type": "code",
        "colab": {}
      },
      "source": [
        "def build_model():\n",
        "  model = keras.Sequential([\n",
        "      layers.Dense(9, activation = tf.nn.relu),\n",
        "      layers.Dense(5, activation = tf.nn.relu),\n",
        "      layers.Dense(1)\n",
        "  ])\n",
        "  \n",
        "  optimizer = tf.keras.optimizers.SGD(0.01)\n",
        "\n",
        "  model.compile(loss='mse',\n",
        "                optimizer=optimizer,\n",
        "                metrics=[tf.keras.metrics.RootMeanSquaredError,'mse'])\n",
        "  return model"
      ],
      "execution_count": null,
      "outputs": []
    },
    {
      "cell_type": "code",
      "metadata": {
        "id": "HaPATd5uDvFe",
        "colab_type": "code",
        "colab": {}
      },
      "source": [
        "model = build_model()"
      ],
      "execution_count": null,
      "outputs": []
    },
    {
      "cell_type": "code",
      "metadata": {
        "id": "mGS-KhJoEwca",
        "colab_type": "code",
        "colab": {}
      },
      "source": [
        "class PrintDot(keras.callbacks.Callback):\n",
        "  def on_epoch_end(self, epoch, logs):\n",
        "    if epoch % 100 == 0: print('')\n",
        "    print('.', end='')\n",
        "\n",
        "epochs = 1000\n",
        "\n",
        "history = model.fit(\n",
        "    normalized_train, train_labels,\n",
        "    validation_split=0.2, verbose=0, epochs=epochs,\n",
        "    callbacks=[PrintDot()])"
      ],
      "execution_count": null,
      "outputs": []
    },
    {
      "cell_type": "code",
      "metadata": {
        "id": "Y-LASv_MS3Tz",
        "colab_type": "code",
        "colab": {}
      },
      "source": [
        "plot_loss(history)"
      ],
      "execution_count": null,
      "outputs": []
    },
    {
      "cell_type": "code",
      "metadata": {
        "id": "kFN7mshnTYTC",
        "colab_type": "code",
        "colab": {}
      },
      "source": [
        ""
      ],
      "execution_count": null,
      "outputs": []
    }
  ]
}